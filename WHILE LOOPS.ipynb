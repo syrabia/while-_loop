{
 "cells": [
  {
   "cell_type": "code",
   "execution_count": 3,
   "metadata": {},
   "outputs": [
    {
     "name": "stdout",
     "output_type": "stream",
     "text": [
      "0\n",
      "1\n",
      "2\n",
      "3\n",
      "4\n",
      "5\n",
      "6\n",
      "7\n",
      "8\n",
      "9\n"
     ]
    }
   ],
   "source": [
    "for i in range(10):\n",
    "    print(i)"
   ]
  },
  {
   "cell_type": "code",
   "execution_count": 6,
   "metadata": {},
   "outputs": [
    {
     "name": "stdout",
     "output_type": "stream",
     "text": [
      "0\n",
      "1\n",
      "2\n",
      "3\n",
      "4\n",
      "5\n",
      "6\n",
      "7\n",
      "8\n",
      "9\n"
     ]
    }
   ],
   "source": [
    "a=0\n",
    "while a<10:\n",
    "    print(a)\n",
    "    a=a+1"
   ]
  },
  {
   "cell_type": "code",
   "execution_count": 1,
   "metadata": {},
   "outputs": [
    {
     "name": "stdout",
     "output_type": "stream",
     "text": [
      "enter a topping: a\n",
      "enter a topping: b\n",
      "enter a topping: c\n",
      "enter a topping: d\n",
      "enter a topping: e\n",
      "['a', 'b', 'c', 'd', 'e']\n"
     ]
    }
   ],
   "source": [
    "topping=[]\n",
    "for i in range(5):\n",
    "    toppings=input('enter a topping: ')\n",
    "    topping.append(toppings)\n",
    "    \n",
    "print(topping)"
   ]
  },
  {
   "cell_type": "code",
   "execution_count": 14,
   "metadata": {
    "scrolled": true
   },
   "outputs": [
    {
     "name": "stdout",
     "output_type": "stream",
     "text": [
      "enter a topping: a\n",
      "enter a topping: b\n",
      "enter a topping: c\n",
      "enter a topping: q\n",
      "['a', 'b', 'c']\n"
     ]
    }
   ],
   "source": [
    "toppings=[]\n",
    "flag= True\n",
    "while flag:\n",
    "    topping=input('enter a topping: ')\n",
    "    if topping=='q':\n",
    "            flag= False\n",
    "            print(toppings) \n",
    "    toppings.append(topping)       "
   ]
  },
  {
   "cell_type": "code",
   "execution_count": 17,
   "metadata": {},
   "outputs": [
    {
     "name": "stdout",
     "output_type": "stream",
     "text": [
      "enter a topping: a\n",
      "enter a topping: b\n",
      "enter a topping: c\n",
      "enter a topping: q\n",
      "['a', 'b', 'c']\n"
     ]
    }
   ],
   "source": [
    "toppings=[]\n",
    "flag= True\n",
    "while flag:\n",
    "    topping=input('enter a topping: ')\n",
    "    if topping=='q':\n",
    "        flag= False\n",
    "    else:\n",
    "        toppings.append(topping) \n",
    "print(toppings) "
   ]
  },
  {
   "cell_type": "code",
   "execution_count": null,
   "metadata": {},
   "outputs": [
    {
     "name": "stdout",
     "output_type": "stream",
     "text": [
      "PIZZA ORDER\n",
      "\n",
      "\n",
      "['small', 'medium', 'large']\n"
     ]
    }
   ],
   "source": [
    "af=['Fajita','Tikka','Mexican']\n",
    "asz=['small','medium','large']\n",
    "at=['extra cheese','olives','hurbs']\n",
    "print('PIZZA ORDER')\n",
    "print()\n",
    "print()\n",
    "flag= True\n",
    "while flag:\n",
    "    print(asz)\n",
    "    size=input('Enter size: ')\n",
    "    if size not in asz:\n",
    "        print(f'{size} not available')\n",
    "        print('Enter size again')\n",
    "        size=input('Enter size: ')"
   ]
  },
  {
   "cell_type": "code",
   "execution_count": null,
   "metadata": {},
   "outputs": [],
   "source": []
  }
 ],
 "metadata": {
  "kernelspec": {
   "display_name": "Python 3",
   "language": "python",
   "name": "python3"
  },
  "language_info": {
   "codemirror_mode": {
    "name": "ipython",
    "version": 3
   },
   "file_extension": ".py",
   "mimetype": "text/x-python",
   "name": "python",
   "nbconvert_exporter": "python",
   "pygments_lexer": "ipython3",
   "version": "3.7.3"
  }
 },
 "nbformat": 4,
 "nbformat_minor": 2
}
